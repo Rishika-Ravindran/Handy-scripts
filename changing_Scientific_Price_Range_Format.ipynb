{
  "nbformat": 4,
  "nbformat_minor": 0,
  "metadata": {
    "colab": {
      "name": "script for changing scientific price range.ipynb",
      "provenance": []
    },
    "kernelspec": {
      "name": "python3",
      "display_name": "Python 3"
    },
    "language_info": {
      "name": "python"
    }
  },
  "cells": [
    {
      "cell_type": "code",
      "metadata": {
        "colab": {
          "base_uri": "https://localhost:8080/"
        },
        "id": "FUFeocpiE_py",
        "outputId": "2c6a93e4-974f-48b9-f8bb-c9d563beda7f"
      },
      "source": [
        "from google.colab import drive\n",
        "drive.mount('/content/drive')\n"
      ],
      "execution_count": null,
      "outputs": [
        {
          "output_type": "stream",
          "text": [
            "Drive already mounted at /content/drive; to attempt to forcibly remount, call drive.mount(\"/content/drive\", force_remount=True).\n"
          ],
          "name": "stdout"
        }
      ]
    },
    {
      "cell_type": "code",
      "metadata": {
        "id": "5onJKxW4FiHN"
      },
      "source": [
        "#import modules and read the dataset \n",
        "import pandas as pd\n",
        "import numpy as np\n",
        "import seaborn as sns\n",
        "import matplotlib.pyplot as plt"
      ],
      "execution_count": null,
      "outputs": []
    },
    {
      "cell_type": "code",
      "metadata": {
        "id": "WGU2to3hFqjh"
      },
      "source": [
        "df = pd.read_csv(\"/content/drive/MyDrive/cat_delhi_makaan_mapped.csv\")"
      ],
      "execution_count": null,
      "outputs": []
    },
    {
      "cell_type": "code",
      "metadata": {
        "colab": {
          "base_uri": "https://localhost:8080/",
          "height": 204
        },
        "id": "W7Tos4EiGCDf",
        "outputId": "d15732eb-e239-461f-ad04-d727d54a2979"
      },
      "source": [
        "df.head()"
      ],
      "execution_count": null,
      "outputs": [
        {
          "output_type": "execute_result",
          "data": {
            "text/html": [
              "<div>\n",
              "<style scoped>\n",
              "    .dataframe tbody tr th:only-of-type {\n",
              "        vertical-align: middle;\n",
              "    }\n",
              "\n",
              "    .dataframe tbody tr th {\n",
              "        vertical-align: top;\n",
              "    }\n",
              "\n",
              "    .dataframe thead th {\n",
              "        text-align: right;\n",
              "    }\n",
              "</style>\n",
              "<table border=\"1\" class=\"dataframe\">\n",
              "  <thead>\n",
              "    <tr style=\"text-align: right;\">\n",
              "      <th></th>\n",
              "      <th>Unnamed: 0</th>\n",
              "      <th>suburb_name</th>\n",
              "      <th>property_type</th>\n",
              "      <th>prop_size_sq_feet</th>\n",
              "      <th>price</th>\n",
              "      <th>no_of_bedrooms</th>\n",
              "      <th>status</th>\n",
              "      <th>prop_age</th>\n",
              "      <th>Ward_Name</th>\n",
              "    </tr>\n",
              "  </thead>\n",
              "  <tbody>\n",
              "    <tr>\n",
              "      <th>0</th>\n",
              "      <td>8</td>\n",
              "      <td>Other</td>\n",
              "      <td>Independent Floor</td>\n",
              "      <td>675</td>\n",
              "      <td>(4e+06,4.5e+06]</td>\n",
              "      <td>2</td>\n",
              "      <td>Furnished</td>\n",
              "      <td>3</td>\n",
              "      <td>DELHI CANTT CHARGE 6</td>\n",
              "    </tr>\n",
              "    <tr>\n",
              "      <th>1</th>\n",
              "      <td>9</td>\n",
              "      <td>Other</td>\n",
              "      <td>Independent Floor</td>\n",
              "      <td>2200</td>\n",
              "      <td>(1.5e+07,2e+07]</td>\n",
              "      <td>3</td>\n",
              "      <td>Semi-Furnished</td>\n",
              "      <td>3</td>\n",
              "      <td>DELHI CANTT CHARGE 7</td>\n",
              "    </tr>\n",
              "    <tr>\n",
              "      <th>2</th>\n",
              "      <td>10</td>\n",
              "      <td>Other</td>\n",
              "      <td>Apartment</td>\n",
              "      <td>630</td>\n",
              "      <td>(2e+07,2.5e+07]</td>\n",
              "      <td>2</td>\n",
              "      <td>Unfurnished</td>\n",
              "      <td>1</td>\n",
              "      <td>DELHI CANTT CHARGE 7</td>\n",
              "    </tr>\n",
              "    <tr>\n",
              "      <th>3</th>\n",
              "      <td>11</td>\n",
              "      <td>Other</td>\n",
              "      <td>Independent Floor</td>\n",
              "      <td>2300</td>\n",
              "      <td>(1.5e+07,2e+07]</td>\n",
              "      <td>3</td>\n",
              "      <td>Semi-Furnished</td>\n",
              "      <td>3</td>\n",
              "      <td>DELHI CANTT CHARGE 7</td>\n",
              "    </tr>\n",
              "    <tr>\n",
              "      <th>4</th>\n",
              "      <td>12</td>\n",
              "      <td>Other</td>\n",
              "      <td>Independent Floor</td>\n",
              "      <td>2200</td>\n",
              "      <td>(1.5e+07,2e+07]</td>\n",
              "      <td>3</td>\n",
              "      <td>Semi-Furnished</td>\n",
              "      <td>3</td>\n",
              "      <td>DELHI CANTT CHARGE 7</td>\n",
              "    </tr>\n",
              "  </tbody>\n",
              "</table>\n",
              "</div>"
            ],
            "text/plain": [
              "   Unnamed: 0 suburb_name  ... prop_age             Ward_Name\n",
              "0           8       Other  ...        3  DELHI CANTT CHARGE 6\n",
              "1           9       Other  ...        3  DELHI CANTT CHARGE 7\n",
              "2          10       Other  ...        1  DELHI CANTT CHARGE 7\n",
              "3          11       Other  ...        3  DELHI CANTT CHARGE 7\n",
              "4          12       Other  ...        3  DELHI CANTT CHARGE 7\n",
              "\n",
              "[5 rows x 9 columns]"
            ]
          },
          "metadata": {
            "tags": []
          },
          "execution_count": 124
        }
      ]
    },
    {
      "cell_type": "code",
      "metadata": {
        "colab": {
          "base_uri": "https://localhost:8080/"
        },
        "id": "eIFkX_LmGHaP",
        "outputId": "65a9a972-ab9a-4674-c423-aac7d3b20218"
      },
      "source": [
        "dfp = df['price']\n",
        "dfp"
      ],
      "execution_count": null,
      "outputs": [
        {
          "output_type": "execute_result",
          "data": {
            "text/plain": [
              "0        (4e+06,4.5e+06]\n",
              "1        (1.5e+07,2e+07]\n",
              "2        (2e+07,2.5e+07]\n",
              "3        (1.5e+07,2e+07]\n",
              "4        (1.5e+07,2e+07]\n",
              "              ...       \n",
              "56126    (1.5e+06,2e+06]\n",
              "56127    (1.5e+06,2e+06]\n",
              "56128    (2.5e+06,3e+06]\n",
              "56129    (2.5e+06,3e+06]\n",
              "56130    (7e+06,7.5e+06]\n",
              "Name: price, Length: 56131, dtype: object"
            ]
          },
          "metadata": {
            "tags": []
          },
          "execution_count": 125
        }
      ]
    },
    {
      "cell_type": "code",
      "metadata": {
        "id": "J1lDlBx6GbWe"
      },
      "source": [
        "pd.options.display.float_format = '{:,}'.format\n"
      ],
      "execution_count": null,
      "outputs": []
    },
    {
      "cell_type": "code",
      "metadata": {
        "id": "F85stswmGeu2"
      },
      "source": [
        "dfp = dfp.to_frame()"
      ],
      "execution_count": null,
      "outputs": []
    },
    {
      "cell_type": "code",
      "metadata": {
        "id": "pGrZ8nMmKIus"
      },
      "source": [
        "#Splitting done on basis of ','\n",
        "def price_split(df,):\n",
        "  df[['low range','high range']] = df.price.str.split(\",\",1,expand=True)\n",
        "  #df['Company Name'] = df['Comp Name'].str[:-1]\n",
        "  #df=df.drop(['Comp Name'], axis = 1)\n",
        "  return df"
      ],
      "execution_count": null,
      "outputs": []
    },
    {
      "cell_type": "code",
      "metadata": {
        "colab": {
          "base_uri": "https://localhost:8080/",
          "height": 419
        },
        "id": "VuzjCxzCKbLW",
        "outputId": "809bbe18-9d1e-4eae-9e70-7e5922fc66d2"
      },
      "source": [
        "price_split(dfp)"
      ],
      "execution_count": null,
      "outputs": [
        {
          "output_type": "execute_result",
          "data": {
            "text/html": [
              "<div>\n",
              "<style scoped>\n",
              "    .dataframe tbody tr th:only-of-type {\n",
              "        vertical-align: middle;\n",
              "    }\n",
              "\n",
              "    .dataframe tbody tr th {\n",
              "        vertical-align: top;\n",
              "    }\n",
              "\n",
              "    .dataframe thead th {\n",
              "        text-align: right;\n",
              "    }\n",
              "</style>\n",
              "<table border=\"1\" class=\"dataframe\">\n",
              "  <thead>\n",
              "    <tr style=\"text-align: right;\">\n",
              "      <th></th>\n",
              "      <th>price</th>\n",
              "      <th>low range</th>\n",
              "      <th>high range</th>\n",
              "    </tr>\n",
              "  </thead>\n",
              "  <tbody>\n",
              "    <tr>\n",
              "      <th>0</th>\n",
              "      <td>(4e+06,4.5e+06]</td>\n",
              "      <td>(4e+06</td>\n",
              "      <td>4.5e+06]</td>\n",
              "    </tr>\n",
              "    <tr>\n",
              "      <th>1</th>\n",
              "      <td>(1.5e+07,2e+07]</td>\n",
              "      <td>(1.5e+07</td>\n",
              "      <td>2e+07]</td>\n",
              "    </tr>\n",
              "    <tr>\n",
              "      <th>2</th>\n",
              "      <td>(2e+07,2.5e+07]</td>\n",
              "      <td>(2e+07</td>\n",
              "      <td>2.5e+07]</td>\n",
              "    </tr>\n",
              "    <tr>\n",
              "      <th>3</th>\n",
              "      <td>(1.5e+07,2e+07]</td>\n",
              "      <td>(1.5e+07</td>\n",
              "      <td>2e+07]</td>\n",
              "    </tr>\n",
              "    <tr>\n",
              "      <th>4</th>\n",
              "      <td>(1.5e+07,2e+07]</td>\n",
              "      <td>(1.5e+07</td>\n",
              "      <td>2e+07]</td>\n",
              "    </tr>\n",
              "    <tr>\n",
              "      <th>...</th>\n",
              "      <td>...</td>\n",
              "      <td>...</td>\n",
              "      <td>...</td>\n",
              "    </tr>\n",
              "    <tr>\n",
              "      <th>56126</th>\n",
              "      <td>(1.5e+06,2e+06]</td>\n",
              "      <td>(1.5e+06</td>\n",
              "      <td>2e+06]</td>\n",
              "    </tr>\n",
              "    <tr>\n",
              "      <th>56127</th>\n",
              "      <td>(1.5e+06,2e+06]</td>\n",
              "      <td>(1.5e+06</td>\n",
              "      <td>2e+06]</td>\n",
              "    </tr>\n",
              "    <tr>\n",
              "      <th>56128</th>\n",
              "      <td>(2.5e+06,3e+06]</td>\n",
              "      <td>(2.5e+06</td>\n",
              "      <td>3e+06]</td>\n",
              "    </tr>\n",
              "    <tr>\n",
              "      <th>56129</th>\n",
              "      <td>(2.5e+06,3e+06]</td>\n",
              "      <td>(2.5e+06</td>\n",
              "      <td>3e+06]</td>\n",
              "    </tr>\n",
              "    <tr>\n",
              "      <th>56130</th>\n",
              "      <td>(7e+06,7.5e+06]</td>\n",
              "      <td>(7e+06</td>\n",
              "      <td>7.5e+06]</td>\n",
              "    </tr>\n",
              "  </tbody>\n",
              "</table>\n",
              "<p>56131 rows × 3 columns</p>\n",
              "</div>"
            ],
            "text/plain": [
              "                 price low range high range\n",
              "0      (4e+06,4.5e+06]    (4e+06   4.5e+06]\n",
              "1      (1.5e+07,2e+07]  (1.5e+07     2e+07]\n",
              "2      (2e+07,2.5e+07]    (2e+07   2.5e+07]\n",
              "3      (1.5e+07,2e+07]  (1.5e+07     2e+07]\n",
              "4      (1.5e+07,2e+07]  (1.5e+07     2e+07]\n",
              "...                ...       ...        ...\n",
              "56126  (1.5e+06,2e+06]  (1.5e+06     2e+06]\n",
              "56127  (1.5e+06,2e+06]  (1.5e+06     2e+06]\n",
              "56128  (2.5e+06,3e+06]  (2.5e+06     3e+06]\n",
              "56129  (2.5e+06,3e+06]  (2.5e+06     3e+06]\n",
              "56130  (7e+06,7.5e+06]    (7e+06   7.5e+06]\n",
              "\n",
              "[56131 rows x 3 columns]"
            ]
          },
          "metadata": {
            "tags": []
          },
          "execution_count": 130
        }
      ]
    },
    {
      "cell_type": "code",
      "metadata": {
        "id": "6qBq6hi7M9tt"
      },
      "source": [
        "import re"
      ],
      "execution_count": null,
      "outputs": []
    },
    {
      "cell_type": "code",
      "metadata": {
        "id": "nQ7CPwiGLMnp"
      },
      "source": [
        "#dfp['low range'].replace(\"(\", \"\")\n",
        "#re.sub('[()]', '', dfp['low range'])\n",
        "rr = dfp.replace('(','').replace(')','')\n"
      ],
      "execution_count": null,
      "outputs": []
    },
    {
      "cell_type": "code",
      "metadata": {
        "colab": {
          "base_uri": "https://localhost:8080/"
        },
        "id": "QX416Yp7NqPY",
        "outputId": "2bcbfd9a-ce2e-4bb3-99af-ea2d952c22af"
      },
      "source": [
        "len(rr.price[0])"
      ],
      "execution_count": null,
      "outputs": [
        {
          "output_type": "execute_result",
          "data": {
            "text/plain": [
              "15"
            ]
          },
          "metadata": {
            "tags": []
          },
          "execution_count": 133
        }
      ]
    },
    {
      "cell_type": "code",
      "metadata": {
        "id": "IJaHa8qRQBJC"
      },
      "source": [
        "dfp['low range']=dfp['low range'].str.replace(\"(\",\"\") \n"
      ],
      "execution_count": null,
      "outputs": []
    },
    {
      "cell_type": "code",
      "metadata": {
        "id": "K6ih1qgqQLSB"
      },
      "source": [
        "dfp['high range']=dfp['high range'].str.replace(\"]\",\"\") \n"
      ],
      "execution_count": null,
      "outputs": []
    },
    {
      "cell_type": "code",
      "metadata": {
        "colab": {
          "base_uri": "https://localhost:8080/",
          "height": 419
        },
        "id": "buotgObpQS1k",
        "outputId": "96c04acc-6c0d-402d-ebe1-fd4b1686b1b2"
      },
      "source": [
        "dfp"
      ],
      "execution_count": null,
      "outputs": [
        {
          "output_type": "execute_result",
          "data": {
            "text/html": [
              "<div>\n",
              "<style scoped>\n",
              "    .dataframe tbody tr th:only-of-type {\n",
              "        vertical-align: middle;\n",
              "    }\n",
              "\n",
              "    .dataframe tbody tr th {\n",
              "        vertical-align: top;\n",
              "    }\n",
              "\n",
              "    .dataframe thead th {\n",
              "        text-align: right;\n",
              "    }\n",
              "</style>\n",
              "<table border=\"1\" class=\"dataframe\">\n",
              "  <thead>\n",
              "    <tr style=\"text-align: right;\">\n",
              "      <th></th>\n",
              "      <th>price</th>\n",
              "      <th>low range</th>\n",
              "      <th>high range</th>\n",
              "    </tr>\n",
              "  </thead>\n",
              "  <tbody>\n",
              "    <tr>\n",
              "      <th>0</th>\n",
              "      <td>(4e+06,4.5e+06]</td>\n",
              "      <td>4e+06</td>\n",
              "      <td>4.5e+06</td>\n",
              "    </tr>\n",
              "    <tr>\n",
              "      <th>1</th>\n",
              "      <td>(1.5e+07,2e+07]</td>\n",
              "      <td>1.5e+07</td>\n",
              "      <td>2e+07</td>\n",
              "    </tr>\n",
              "    <tr>\n",
              "      <th>2</th>\n",
              "      <td>(2e+07,2.5e+07]</td>\n",
              "      <td>2e+07</td>\n",
              "      <td>2.5e+07</td>\n",
              "    </tr>\n",
              "    <tr>\n",
              "      <th>3</th>\n",
              "      <td>(1.5e+07,2e+07]</td>\n",
              "      <td>1.5e+07</td>\n",
              "      <td>2e+07</td>\n",
              "    </tr>\n",
              "    <tr>\n",
              "      <th>4</th>\n",
              "      <td>(1.5e+07,2e+07]</td>\n",
              "      <td>1.5e+07</td>\n",
              "      <td>2e+07</td>\n",
              "    </tr>\n",
              "    <tr>\n",
              "      <th>...</th>\n",
              "      <td>...</td>\n",
              "      <td>...</td>\n",
              "      <td>...</td>\n",
              "    </tr>\n",
              "    <tr>\n",
              "      <th>56126</th>\n",
              "      <td>(1.5e+06,2e+06]</td>\n",
              "      <td>1.5e+06</td>\n",
              "      <td>2e+06</td>\n",
              "    </tr>\n",
              "    <tr>\n",
              "      <th>56127</th>\n",
              "      <td>(1.5e+06,2e+06]</td>\n",
              "      <td>1.5e+06</td>\n",
              "      <td>2e+06</td>\n",
              "    </tr>\n",
              "    <tr>\n",
              "      <th>56128</th>\n",
              "      <td>(2.5e+06,3e+06]</td>\n",
              "      <td>2.5e+06</td>\n",
              "      <td>3e+06</td>\n",
              "    </tr>\n",
              "    <tr>\n",
              "      <th>56129</th>\n",
              "      <td>(2.5e+06,3e+06]</td>\n",
              "      <td>2.5e+06</td>\n",
              "      <td>3e+06</td>\n",
              "    </tr>\n",
              "    <tr>\n",
              "      <th>56130</th>\n",
              "      <td>(7e+06,7.5e+06]</td>\n",
              "      <td>7e+06</td>\n",
              "      <td>7.5e+06</td>\n",
              "    </tr>\n",
              "  </tbody>\n",
              "</table>\n",
              "<p>56131 rows × 3 columns</p>\n",
              "</div>"
            ],
            "text/plain": [
              "                 price low range high range\n",
              "0      (4e+06,4.5e+06]     4e+06    4.5e+06\n",
              "1      (1.5e+07,2e+07]   1.5e+07      2e+07\n",
              "2      (2e+07,2.5e+07]     2e+07    2.5e+07\n",
              "3      (1.5e+07,2e+07]   1.5e+07      2e+07\n",
              "4      (1.5e+07,2e+07]   1.5e+07      2e+07\n",
              "...                ...       ...        ...\n",
              "56126  (1.5e+06,2e+06]   1.5e+06      2e+06\n",
              "56127  (1.5e+06,2e+06]   1.5e+06      2e+06\n",
              "56128  (2.5e+06,3e+06]   2.5e+06      3e+06\n",
              "56129  (2.5e+06,3e+06]   2.5e+06      3e+06\n",
              "56130  (7e+06,7.5e+06]     7e+06    7.5e+06\n",
              "\n",
              "[56131 rows x 3 columns]"
            ]
          },
          "metadata": {
            "tags": []
          },
          "execution_count": 139
        }
      ]
    },
    {
      "cell_type": "code",
      "metadata": {
        "id": "umTf7YolUAD7"
      },
      "source": [
        "dfp[\"low range\"] = dfp[\"low range\"].astype(int)\n",
        "dfp[\"high range\"] = dfp[\"high range\"].astype(int)"
      ],
      "execution_count": null,
      "outputs": []
    },
    {
      "cell_type": "code",
      "metadata": {
        "id": "Rs4ae5ETQ1X3"
      },
      "source": [
        "#dfp[\"low range\"] = pd.to_numeric(dfp[\"low range\"])\n",
        "#dfp[\"low range\"] = pd.to_numeric(dfp[\"high range\"])\n",
        "dfp\n",
        "dfp[\"low range\"] = dfp['low range'].apply(lambda x : \"{:,}\".format(x))\n",
        "dfp[\"high range\"] = dfp['high range'].apply(lambda x : \"{:,}\".format(x))\n"
      ],
      "execution_count": null,
      "outputs": []
    },
    {
      "cell_type": "code",
      "metadata": {
        "id": "GGW2p8oGRhEx"
      },
      "source": [
        "dfp['price']='INR ' + dfp['low range'].astype(str)+'-'+dfp['high range'].astype(str)"
      ],
      "execution_count": null,
      "outputs": []
    },
    {
      "cell_type": "code",
      "metadata": {
        "colab": {
          "base_uri": "https://localhost:8080/",
          "height": 419
        },
        "id": "EDSMnU8LSkSc",
        "outputId": "fb18a10a-94b6-4d71-c4ba-5f8aebe7f66d"
      },
      "source": [
        "dfp"
      ],
      "execution_count": null,
      "outputs": [
        {
          "output_type": "execute_result",
          "data": {
            "text/html": [
              "<div>\n",
              "<style scoped>\n",
              "    .dataframe tbody tr th:only-of-type {\n",
              "        vertical-align: middle;\n",
              "    }\n",
              "\n",
              "    .dataframe tbody tr th {\n",
              "        vertical-align: top;\n",
              "    }\n",
              "\n",
              "    .dataframe thead th {\n",
              "        text-align: right;\n",
              "    }\n",
              "</style>\n",
              "<table border=\"1\" class=\"dataframe\">\n",
              "  <thead>\n",
              "    <tr style=\"text-align: right;\">\n",
              "      <th></th>\n",
              "      <th>price</th>\n",
              "      <th>low range</th>\n",
              "      <th>high range</th>\n",
              "    </tr>\n",
              "  </thead>\n",
              "  <tbody>\n",
              "    <tr>\n",
              "      <th>0</th>\n",
              "      <td>INR 4,000,000-4,500,000</td>\n",
              "      <td>4,000,000</td>\n",
              "      <td>4,500,000</td>\n",
              "    </tr>\n",
              "    <tr>\n",
              "      <th>1</th>\n",
              "      <td>INR 15,000,000-20,000,000</td>\n",
              "      <td>15,000,000</td>\n",
              "      <td>20,000,000</td>\n",
              "    </tr>\n",
              "    <tr>\n",
              "      <th>2</th>\n",
              "      <td>INR 20,000,000-25,000,000</td>\n",
              "      <td>20,000,000</td>\n",
              "      <td>25,000,000</td>\n",
              "    </tr>\n",
              "    <tr>\n",
              "      <th>3</th>\n",
              "      <td>INR 15,000,000-20,000,000</td>\n",
              "      <td>15,000,000</td>\n",
              "      <td>20,000,000</td>\n",
              "    </tr>\n",
              "    <tr>\n",
              "      <th>4</th>\n",
              "      <td>INR 15,000,000-20,000,000</td>\n",
              "      <td>15,000,000</td>\n",
              "      <td>20,000,000</td>\n",
              "    </tr>\n",
              "    <tr>\n",
              "      <th>...</th>\n",
              "      <td>...</td>\n",
              "      <td>...</td>\n",
              "      <td>...</td>\n",
              "    </tr>\n",
              "    <tr>\n",
              "      <th>56126</th>\n",
              "      <td>INR 1,500,000-2,000,000</td>\n",
              "      <td>1,500,000</td>\n",
              "      <td>2,000,000</td>\n",
              "    </tr>\n",
              "    <tr>\n",
              "      <th>56127</th>\n",
              "      <td>INR 1,500,000-2,000,000</td>\n",
              "      <td>1,500,000</td>\n",
              "      <td>2,000,000</td>\n",
              "    </tr>\n",
              "    <tr>\n",
              "      <th>56128</th>\n",
              "      <td>INR 2,500,000-3,000,000</td>\n",
              "      <td>2,500,000</td>\n",
              "      <td>3,000,000</td>\n",
              "    </tr>\n",
              "    <tr>\n",
              "      <th>56129</th>\n",
              "      <td>INR 2,500,000-3,000,000</td>\n",
              "      <td>2,500,000</td>\n",
              "      <td>3,000,000</td>\n",
              "    </tr>\n",
              "    <tr>\n",
              "      <th>56130</th>\n",
              "      <td>INR 7,000,000-7,500,000</td>\n",
              "      <td>7,000,000</td>\n",
              "      <td>7,500,000</td>\n",
              "    </tr>\n",
              "  </tbody>\n",
              "</table>\n",
              "<p>56131 rows × 3 columns</p>\n",
              "</div>"
            ],
            "text/plain": [
              "                           price   low range  high range\n",
              "0        INR 4,000,000-4,500,000   4,000,000   4,500,000\n",
              "1      INR 15,000,000-20,000,000  15,000,000  20,000,000\n",
              "2      INR 20,000,000-25,000,000  20,000,000  25,000,000\n",
              "3      INR 15,000,000-20,000,000  15,000,000  20,000,000\n",
              "4      INR 15,000,000-20,000,000  15,000,000  20,000,000\n",
              "...                          ...         ...         ...\n",
              "56126    INR 1,500,000-2,000,000   1,500,000   2,000,000\n",
              "56127    INR 1,500,000-2,000,000   1,500,000   2,000,000\n",
              "56128    INR 2,500,000-3,000,000   2,500,000   3,000,000\n",
              "56129    INR 2,500,000-3,000,000   2,500,000   3,000,000\n",
              "56130    INR 7,000,000-7,500,000   7,000,000   7,500,000\n",
              "\n",
              "[56131 rows x 3 columns]"
            ]
          },
          "metadata": {
            "tags": []
          },
          "execution_count": 157
        }
      ]
    },
    {
      "cell_type": "code",
      "metadata": {
        "id": "VB7fh5NqTnZ9"
      },
      "source": [
        "df['price'] = dfp['price']"
      ],
      "execution_count": null,
      "outputs": []
    },
    {
      "cell_type": "code",
      "metadata": {
        "colab": {
          "base_uri": "https://localhost:8080/",
          "height": 881
        },
        "id": "pEYG2tTmT0oS",
        "outputId": "15d2662b-671a-40b1-c4b3-f864fb9d14ef"
      },
      "source": [
        "df"
      ],
      "execution_count": null,
      "outputs": [
        {
          "output_type": "execute_result",
          "data": {
            "text/html": [
              "<div>\n",
              "<style scoped>\n",
              "    .dataframe tbody tr th:only-of-type {\n",
              "        vertical-align: middle;\n",
              "    }\n",
              "\n",
              "    .dataframe tbody tr th {\n",
              "        vertical-align: top;\n",
              "    }\n",
              "\n",
              "    .dataframe thead th {\n",
              "        text-align: right;\n",
              "    }\n",
              "</style>\n",
              "<table border=\"1\" class=\"dataframe\">\n",
              "  <thead>\n",
              "    <tr style=\"text-align: right;\">\n",
              "      <th></th>\n",
              "      <th>Unnamed: 0</th>\n",
              "      <th>suburb_name</th>\n",
              "      <th>property_type</th>\n",
              "      <th>prop_size_sq_feet</th>\n",
              "      <th>price</th>\n",
              "      <th>no_of_bedrooms</th>\n",
              "      <th>status</th>\n",
              "      <th>prop_age</th>\n",
              "      <th>Ward_Name</th>\n",
              "    </tr>\n",
              "  </thead>\n",
              "  <tbody>\n",
              "    <tr>\n",
              "      <th>0</th>\n",
              "      <td>8</td>\n",
              "      <td>Other</td>\n",
              "      <td>Independent Floor</td>\n",
              "      <td>675</td>\n",
              "      <td>INR 4,000,000-4,500,000</td>\n",
              "      <td>2</td>\n",
              "      <td>Furnished</td>\n",
              "      <td>3</td>\n",
              "      <td>DELHI CANTT CHARGE 6</td>\n",
              "    </tr>\n",
              "    <tr>\n",
              "      <th>1</th>\n",
              "      <td>9</td>\n",
              "      <td>Other</td>\n",
              "      <td>Independent Floor</td>\n",
              "      <td>2200</td>\n",
              "      <td>INR 15,000,000-20,000,000</td>\n",
              "      <td>3</td>\n",
              "      <td>Semi-Furnished</td>\n",
              "      <td>3</td>\n",
              "      <td>DELHI CANTT CHARGE 7</td>\n",
              "    </tr>\n",
              "    <tr>\n",
              "      <th>2</th>\n",
              "      <td>10</td>\n",
              "      <td>Other</td>\n",
              "      <td>Apartment</td>\n",
              "      <td>630</td>\n",
              "      <td>INR 20,000,000-25,000,000</td>\n",
              "      <td>2</td>\n",
              "      <td>Unfurnished</td>\n",
              "      <td>1</td>\n",
              "      <td>DELHI CANTT CHARGE 7</td>\n",
              "    </tr>\n",
              "    <tr>\n",
              "      <th>3</th>\n",
              "      <td>11</td>\n",
              "      <td>Other</td>\n",
              "      <td>Independent Floor</td>\n",
              "      <td>2300</td>\n",
              "      <td>INR 15,000,000-20,000,000</td>\n",
              "      <td>3</td>\n",
              "      <td>Semi-Furnished</td>\n",
              "      <td>3</td>\n",
              "      <td>DELHI CANTT CHARGE 7</td>\n",
              "    </tr>\n",
              "    <tr>\n",
              "      <th>4</th>\n",
              "      <td>12</td>\n",
              "      <td>Other</td>\n",
              "      <td>Independent Floor</td>\n",
              "      <td>2200</td>\n",
              "      <td>INR 15,000,000-20,000,000</td>\n",
              "      <td>3</td>\n",
              "      <td>Semi-Furnished</td>\n",
              "      <td>3</td>\n",
              "      <td>DELHI CANTT CHARGE 7</td>\n",
              "    </tr>\n",
              "    <tr>\n",
              "      <th>...</th>\n",
              "      <td>...</td>\n",
              "      <td>...</td>\n",
              "      <td>...</td>\n",
              "      <td>...</td>\n",
              "      <td>...</td>\n",
              "      <td>...</td>\n",
              "      <td>...</td>\n",
              "      <td>...</td>\n",
              "      <td>...</td>\n",
              "    </tr>\n",
              "    <tr>\n",
              "      <th>56126</th>\n",
              "      <td>83357</td>\n",
              "      <td>Other</td>\n",
              "      <td>Independent Floor</td>\n",
              "      <td>550</td>\n",
              "      <td>INR 1,500,000-2,000,000</td>\n",
              "      <td>2</td>\n",
              "      <td>Semi-Furnished</td>\n",
              "      <td>1</td>\n",
              "      <td>SHASTRI NAGAR</td>\n",
              "    </tr>\n",
              "    <tr>\n",
              "      <th>56127</th>\n",
              "      <td>83362</td>\n",
              "      <td>Other</td>\n",
              "      <td>Independent Floor</td>\n",
              "      <td>250</td>\n",
              "      <td>INR 1,500,000-2,000,000</td>\n",
              "      <td>1</td>\n",
              "      <td>Unfurnished</td>\n",
              "      <td>2</td>\n",
              "      <td>SHASTRI NAGAR</td>\n",
              "    </tr>\n",
              "    <tr>\n",
              "      <th>56128</th>\n",
              "      <td>83374</td>\n",
              "      <td>North Delhi</td>\n",
              "      <td>Independent Floor</td>\n",
              "      <td>600</td>\n",
              "      <td>INR 2,500,000-3,000,000</td>\n",
              "      <td>3</td>\n",
              "      <td>Semi-Furnished</td>\n",
              "      <td>5</td>\n",
              "      <td>SHASTRI NAGAR</td>\n",
              "    </tr>\n",
              "    <tr>\n",
              "      <th>56129</th>\n",
              "      <td>83388</td>\n",
              "      <td>Other</td>\n",
              "      <td>Independent Floor</td>\n",
              "      <td>550</td>\n",
              "      <td>INR 2,500,000-3,000,000</td>\n",
              "      <td>2</td>\n",
              "      <td>Unfurnished</td>\n",
              "      <td>1</td>\n",
              "      <td>SHASTRI NAGAR</td>\n",
              "    </tr>\n",
              "    <tr>\n",
              "      <th>56130</th>\n",
              "      <td>83412</td>\n",
              "      <td>Other</td>\n",
              "      <td>Independent House</td>\n",
              "      <td>900</td>\n",
              "      <td>INR 7,000,000-7,500,000</td>\n",
              "      <td>2</td>\n",
              "      <td>Semi-Furnished</td>\n",
              "      <td>4</td>\n",
              "      <td>TUKHMIR PUR</td>\n",
              "    </tr>\n",
              "  </tbody>\n",
              "</table>\n",
              "<p>56131 rows × 9 columns</p>\n",
              "</div>"
            ],
            "text/plain": [
              "       Unnamed: 0  suburb_name  ... prop_age             Ward_Name\n",
              "0               8        Other  ...        3  DELHI CANTT CHARGE 6\n",
              "1               9        Other  ...        3  DELHI CANTT CHARGE 7\n",
              "2              10        Other  ...        1  DELHI CANTT CHARGE 7\n",
              "3              11        Other  ...        3  DELHI CANTT CHARGE 7\n",
              "4              12        Other  ...        3  DELHI CANTT CHARGE 7\n",
              "...           ...          ...  ...      ...                   ...\n",
              "56126       83357        Other  ...        1         SHASTRI NAGAR\n",
              "56127       83362        Other  ...        2         SHASTRI NAGAR\n",
              "56128       83374  North Delhi  ...        5         SHASTRI NAGAR\n",
              "56129       83388        Other  ...        1         SHASTRI NAGAR\n",
              "56130       83412        Other  ...        4           TUKHMIR PUR\n",
              "\n",
              "[56131 rows x 9 columns]"
            ]
          },
          "metadata": {
            "tags": []
          },
          "execution_count": 159
        }
      ]
    }
  ]
}